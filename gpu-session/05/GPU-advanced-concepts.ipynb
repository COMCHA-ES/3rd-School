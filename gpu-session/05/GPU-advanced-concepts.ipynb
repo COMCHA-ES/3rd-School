{
 "cells": [
  {
   "cell_type": "markdown",
   "metadata": {},
   "source": [
    "## Advanced concenpts in GPU computing "
   ]
  },
  {
   "cell_type": "code",
   "execution_count": 4,
   "metadata": {
    "scrolled": true
   },
   "outputs": [
    {
     "data": {
      "text/html": [
       "\n",
       "<div align=\"center\"><iframe src=\"https://onedrive.live.com/embed?cid=5A70AC10B7F66DE0&resid=5A70AC10B7F66DE0%213365&authkey=APMb8pygjBaqhho&em=2\" width=\"600\" height=\"500\" frameborder=\"0\" scrolling=\"no\"></iframe></div\n"
      ],
      "text/plain": [
       "<IPython.core.display.HTML object>"
      ]
     },
     "metadata": {},
     "output_type": "display_data"
    }
   ],
   "source": [
    "%%HTML\n",
    "\n",
    "<div align=\"center\"><iframe src=\"https://onedrive.live.com/embed?cid=5A70AC10B7F66DE0&resid=5A70AC10B7F66DE0%213365&authkey=APMb8pygjBaqhho&em=2\" width=\"600\" height=\"500\" frameborder=\"0\" scrolling=\"no\"></iframe></div"
   ]
  },
  {
   "cell_type": "code",
   "execution_count": null,
   "metadata": {},
   "outputs": [],
   "source": []
  }
 ],
 "metadata": {
  "kernelspec": {
   "display_name": "Python 3 (ipykernel)",
   "language": "python",
   "name": "python3"
  },
  "language_info": {
   "codemirror_mode": {
    "name": "ipython",
    "version": 3
   },
   "file_extension": ".py",
   "mimetype": "text/x-python",
   "name": "python",
   "nbconvert_exporter": "python",
   "pygments_lexer": "ipython3",
   "version": "3.6.8"
  }
 },
 "nbformat": 4,
 "nbformat_minor": 4
}
